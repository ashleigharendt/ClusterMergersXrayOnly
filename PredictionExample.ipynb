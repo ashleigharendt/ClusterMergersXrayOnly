{
 "cells": [
  {
   "cell_type": "code",
   "execution_count": 1,
   "id": "0948400a",
   "metadata": {
    "scrolled": true
   },
   "outputs": [
    {
     "name": "stderr",
     "output_type": "stream",
     "text": [
      "2023-09-13 03:38:30.035179: I tensorflow/tsl/cuda/cudart_stub.cc:28] Could not find cuda drivers on your machine, GPU will not be used.\n",
      "2023-09-13 03:38:30.085855: I tensorflow/tsl/cuda/cudart_stub.cc:28] Could not find cuda drivers on your machine, GPU will not be used.\n",
      "2023-09-13 03:38:30.087028: I tensorflow/core/platform/cpu_feature_guard.cc:182] This TensorFlow binary is optimized to use available CPU instructions in performance-critical operations.\n",
      "To enable the following instructions: AVX2 FMA, in other operations, rebuild TensorFlow with the appropriate compiler flags.\n",
      "2023-09-13 03:38:30.928149: W tensorflow/compiler/tf2tensorrt/utils/py_utils.cc:38] TF-TRT Warning: Could not find TensorRT\n"
     ]
    }
   ],
   "source": [
    "import numpy as np\n",
    "import ClusterMergers\n",
    "import matplotlib.pyplot as plt"
   ]
  },
  {
   "cell_type": "markdown",
   "id": "c2693f1f",
   "metadata": {},
   "source": [
    "## Initiate class"
   ]
  },
  {
   "cell_type": "code",
   "execution_count": 2,
   "id": "6c9c4bf5",
   "metadata": {},
   "outputs": [],
   "source": [
    "model = ClusterMergers.BaseModel()"
   ]
  },
  {
   "cell_type": "markdown",
   "id": "254cc2df",
   "metadata": {},
   "source": [
    "## Read individual fits file\n",
    "Use this function to load an image from SZ and X-ray fits file, if needed"
   ]
  },
  {
   "cell_type": "code",
   "execution_count": 3,
   "id": "a66f8662",
   "metadata": {},
   "outputs": [],
   "source": [
    "X = model.read_fits(filename='Xray.fits', resize=True)"
   ]
  },
  {
   "cell_type": "code",
   "execution_count": 5,
   "id": "87cfc7f1",
   "metadata": {},
   "outputs": [
    {
     "data": {
      "image/png": "[encoded data removed]",
      "text/plain": [
       "<Figure size 300x300 with 1 Axes>"
      ]
     },
     "metadata": {},
     "output_type": "display_data"
    }
   ],
   "source": [
    "fig = plt.figure(figsize=[3,3])\n",
    "plt.imshow(X[0,:,:])\n",
    "plt.show()"
   ]
  },
  {
   "cell_type": "markdown",
   "id": "0de7d72f",
   "metadata": {},
   "source": [
    "## Make prediction"
   ]
  },
  {
   "cell_type": "markdown",
   "id": "964aef09",
   "metadata": {},
   "source": [
    "Preds takes an array of size (N, 96, 96), if you wish to prejoin, can run read_fits() and stack images on axis=0."
   ]
  },
  {
   "cell_type": "code",
   "execution_count": 6,
   "id": "84a5d1f2",
   "metadata": {},
   "outputs": [
    {
     "name": "stdout",
     "output_type": "stream",
     "text": [
      "1/1 [==============================] - 0s 226ms/step\n"
     ]
    }
   ],
   "source": [
    "preds = model.predict_merger_prob(X, normalise=True)"
   ]
  },
  {
   "cell_type": "code",
   "execution_count": 7,
   "id": "3cbc2306",
   "metadata": {},
   "outputs": [
    {
     "data": {
      "text/plain": [
       "array([[0.84477395]], dtype=float32)"
      ]
     },
     "execution_count": 7,
     "metadata": {},
     "output_type": "execute_result"
    }
   ],
   "source": [
    "preds"
   ]
  },
  {
   "cell_type": "markdown",
   "id": "6e2fa3d7",
   "metadata": {},
   "source": [
    "The model predicted that the cluster is merging with a probability of 84%."
   ]
  },
  {
   "cell_type": "code",
   "execution_count": null,
   "id": "688b0d1c",
   "metadata": {},
   "outputs": [],
   "source": []
  }
 ],
 "metadata": {
  "kernelspec": {
   "display_name": "Python 3 (ipykernel)",
   "language": "python",
   "name": "python3"
  },
  "language_info": {
   "codemirror_mode": {
    "name": "ipython",
    "version": 3
   },
   "file_extension": ".py",
   "mimetype": "text/x-python",
   "name": "python",
   "nbconvert_exporter": "python",
   "pygments_lexer": "ipython3",
   "version": "3.9.7"
  }
 },
 "nbformat": 4,
 "nbformat_minor": 5
}
